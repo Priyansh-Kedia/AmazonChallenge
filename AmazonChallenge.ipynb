{
  "nbformat": 4,
  "nbformat_minor": 0,
  "metadata": {
    "colab": {
      "name": "AmazonChallenge.ipynb",
      "provenance": [],
      "authorship_tag": "ABX9TyM7hMHsTwggALmG3ri4/WgX",
      "include_colab_link": true
    },
    "kernelspec": {
      "name": "python3",
      "display_name": "Python 3"
    },
    "language_info": {
      "name": "python"
    }
  },
  "cells": [
    {
      "cell_type": "markdown",
      "metadata": {
        "id": "view-in-github",
        "colab_type": "text"
      },
      "source": [
        "<a href=\"https://colab.research.google.com/github/Priyansh-Kedia/AmazonChallenge/blob/master/AmazonChallenge.ipynb\" target=\"_parent\"><img src=\"https://colab.research.google.com/assets/colab-badge.svg\" alt=\"Open In Colab\"/></a>"
      ]
    },
    {
      "cell_type": "code",
      "metadata": {
        "id": "HH-T-vwNxkGI"
      },
      "source": [
        "# Add all imports here\n",
        "\n",
        "from nltk.corpus import stopwords\n",
        "import nltk\n",
        "import string\n",
        "import re"
      ],
      "execution_count": 28,
      "outputs": []
    },
    {
      "cell_type": "code",
      "metadata": {
        "colab": {
          "base_uri": "https://localhost:8080/"
        },
        "id": "BTXbrZ0Bx_4m",
        "outputId": "da61893c-0216-42d2-a97f-f16299c5f855"
      },
      "source": [
        "# Download dataset\n",
        "\n",
        "!wget https://s3-ap-southeast-1.amazonaws.com/he-public-data/dataset52a7b21.zip\n"
      ],
      "execution_count": 14,
      "outputs": [
        {
          "output_type": "stream",
          "text": [
            "--2021-07-30 05:44:01--  https://s3-ap-southeast-1.amazonaws.com/he-public-data/dataset52a7b21.zip\n",
            "Resolving s3-ap-southeast-1.amazonaws.com (s3-ap-southeast-1.amazonaws.com)... 52.219.125.22\n",
            "Connecting to s3-ap-southeast-1.amazonaws.com (s3-ap-southeast-1.amazonaws.com)|52.219.125.22|:443... connected.\n",
            "HTTP request sent, awaiting response... 200 OK\n",
            "Length: 1061576029 (1012M) [binary/octet-stream]\n",
            "Saving to: ‘dataset52a7b21.zip.3’\n",
            "\n",
            "dataset52a7b21.zip.   0%[                    ]  49.59K   144KB/s               ^C\n",
            "/bin/bash: -c: line 0: syntax error near unexpected token `'stopwords''\n",
            "/bin/bash: -c: line 0: `nltk.download('stopwords')'\n"
          ],
          "name": "stdout"
        }
      ]
    },
    {
      "cell_type": "code",
      "metadata": {
        "colab": {
          "base_uri": "https://localhost:8080/"
        },
        "id": "-tTfjKnPyHr1",
        "outputId": "c563b9dc-d9a1-4819-b3f7-4a57179e2077"
      },
      "source": [
        "# Unzip the dataset\n",
        "\n",
        "!unzip dataset52a7b21.zip"
      ],
      "execution_count": null,
      "outputs": [
        {
          "output_type": "stream",
          "text": [
            "Archive:  dataset52a7b21.zip\n",
            "   creating: dataset/\n",
            "  inflating: dataset/train.csv       \n",
            "  inflating: dataset/sample_submission.csv  \n",
            "  inflating: dataset/test.csv        \n",
            "  inflating: dataset/.~lock.train.csv#  \n"
          ],
          "name": "stdout"
        }
      ]
    },
    {
      "cell_type": "code",
      "metadata": {
        "colab": {
          "base_uri": "https://localhost:8080/"
        },
        "id": "xNhbbZLV8Qlr",
        "outputId": "efeddf2e-bf53-4439-9e50-e5b13565ae16"
      },
      "source": [
        "# Download nltk stopwords\n",
        "\n",
        "nltk.download('stopwords')"
      ],
      "execution_count": 19,
      "outputs": [
        {
          "output_type": "stream",
          "text": [
            "[nltk_data] Downloading package stopwords to /root/nltk_data...\n",
            "[nltk_data]   Unzipping corpora/stopwords.zip.\n"
          ],
          "name": "stdout"
        },
        {
          "output_type": "execute_result",
          "data": {
            "text/plain": [
              "True"
            ]
          },
          "metadata": {
            "tags": []
          },
          "execution_count": 19
        }
      ]
    },
    {
      "cell_type": "code",
      "metadata": {
        "id": "AOnUgUclx_2R"
      },
      "source": [
        "# Import the dataset in pandas\n",
        "\n",
        "import pandas as pd\n",
        "import csv\n",
        "df = pd.read_csv(\"dataset/train.csv\", low_memory=True, escapechar=\"\\\\\", quoting=csv.QUOTE_NONE)"
      ],
      "execution_count": null,
      "outputs": []
    },
    {
      "cell_type": "code",
      "metadata": {
        "id": "PNqXrG9_0VA3"
      },
      "source": [
        "# Add the column variables here\n",
        "\n",
        "TITLE = \"TITLE\"\n",
        "PRODUCT_ID = \"PRODUCT_ID\"\n",
        "DESCRIPTION = \"DESCRIPTION\"\n",
        "BULLET_POINTS = \"BULLET_POINTS\"\n",
        "BRAND = \"BRAND\"\n",
        "BROWSE_NODE_ID = \"BROWSE_NODE_ID\""
      ],
      "execution_count": null,
      "outputs": []
    },
    {
      "cell_type": "code",
      "metadata": {
        "colab": {
          "base_uri": "https://localhost:8080/"
        },
        "id": "27j793xDx_zd",
        "outputId": "2b3749ce-e0f5-4ad2-e304-ff7c8d0d3a17"
      },
      "source": [
        "# Load the doc\n",
        "def load_doc(df):\n",
        "  titles = df[TITLE].tolist()\n",
        "  descriptions = df[DESCRIPTION].tolist()\n",
        "  bullets = df[BULLET_POINTS].tolist()\n",
        "  \n",
        "\n",
        "load_doc(df)"
      ],
      "execution_count": null,
      "outputs": [
        {
          "output_type": "stream",
          "text": [
            "IOPub data rate exceeded.\n",
            "The notebook server will temporarily stop sending output\n",
            "to the client in order to avoid crashing it.\n",
            "To change this limit, set the config variable\n",
            "`--NotebookApp.iopub_data_rate_limit`.\n",
            "\n",
            "Current values:\n",
            "NotebookApp.iopub_data_rate_limit=1000000.0 (bytes/sec)\n",
            "NotebookApp.rate_limit_window=3.0 (secs)\n",
            "\n"
          ],
          "name": "stderr"
        }
      ]
    },
    {
      "cell_type": "code",
      "metadata": {
        "id": "t57SfV219MkS"
      },
      "source": [
        "# To remove html tags\n",
        "\n",
        "def cleanhtml(raw_html):\n",
        "  cleanr = re.compile('<.*?>')\n",
        "  cleantext = re.sub(cleanr, '', raw_html)\n",
        "  return cleantext"
      ],
      "execution_count": 34,
      "outputs": []
    },
    {
      "cell_type": "code",
      "metadata": {
        "id": "-JAUkgHEx_w2"
      },
      "source": [
        "def clean_doc(doc):\n",
        "  doc = cleanhtml(doc)\n",
        "  tokens = doc.split() # Add delimiter if needed\n",
        "\n",
        "  punctuations = str.maketrans('','', string.punctuation)\n",
        "\n",
        "  tokens = [w.translate(punctuations) for w in tokens]\n",
        "  tokens = [word for word in tokens if word.isalpha()]\n",
        "  stop_words = set(stopwords.words(\"english\"))\n",
        "  tokens = [w for w in tokens if not w in stop_words]\n",
        "\n",
        "  tokens = [word for word in tokens if len(word) > 1]\n",
        "\n",
        "  return tokens\n"
      ],
      "execution_count": 33,
      "outputs": []
    },
    {
      "cell_type": "code",
      "metadata": {
        "id": "7F8fE0Oix_uX",
        "colab": {
          "base_uri": "https://localhost:8080/"
        },
        "outputId": "add88450-d98b-4841-b5fd-69aa719a393e"
      },
      "source": [
        "# This is just created to test the above functions\n",
        "\n",
        "tokens = clean_doc('testing this for the use case <p>this should also be tested</p>')\n",
        "print(tokens)"
      ],
      "execution_count": 35,
      "outputs": [
        {
          "output_type": "stream",
          "text": [
            "['testing', 'use', 'case', 'also', 'tested']\n"
          ],
          "name": "stdout"
        }
      ]
    },
    {
      "cell_type": "code",
      "metadata": {
        "id": "nSdzjJ1kx_rl"
      },
      "source": [
        ""
      ],
      "execution_count": null,
      "outputs": []
    },
    {
      "cell_type": "code",
      "metadata": {
        "id": "ttnDw3-wx_pA"
      },
      "source": [
        ""
      ],
      "execution_count": null,
      "outputs": []
    }
  ]
}