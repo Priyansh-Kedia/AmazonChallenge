{
  "nbformat": 4,
  "nbformat_minor": 0,
  "metadata": {
    "colab": {
      "name": "AmazonChallenge.ipynb",
      "provenance": [],
      "collapsed_sections": [],
      "include_colab_link": true
    },
    "kernelspec": {
      "name": "python3",
      "display_name": "Python 3"
    },
    "language_info": {
      "name": "python"
    },
    "accelerator": "TPU"
  },
  "cells": [
    {
      "cell_type": "markdown",
      "metadata": {
        "id": "view-in-github",
        "colab_type": "text"
      },
      "source": [
        "<a href=\"https://colab.research.google.com/github/Priyansh-Kedia/AmazonChallenge/blob/master/AmazonChallenge.ipynb\" target=\"_parent\"><img src=\"https://colab.research.google.com/assets/colab-badge.svg\" alt=\"Open In Colab\"/></a>"
      ]
    },
    {
      "cell_type": "code",
      "metadata": {
        "id": "HH-T-vwNxkGI"
      },
      "source": [
        "# Add all imports here\n",
        "\n",
        "from nltk.corpus import stopwords\n",
        "import nltk\n",
        "import string\n",
        "import re\n",
        "from collections import Counter\n",
        "import math\n",
        "import pickle\n",
        "\n",
        "import pandas as pd\n",
        "import csv\n",
        "\n",
        "from keras.preprocessing.text import Tokenizer\n",
        "\n",
        "import keras\n",
        "from sklearn.model_selection import train_test_split\n",
        "from keras.models import Model\n",
        "from keras.preprocessing import image\n",
        "from __future__ import print_function\n",
        "import keras\n",
        "from keras.models import Sequential\n",
        "from keras.layers import Dropout, Flatten\n",
        "from keras import layers"
      ],
      "execution_count": 3,
      "outputs": []
    },
    {
      "cell_type": "code",
      "metadata": {
        "id": "BTXbrZ0Bx_4m",
        "colab": {
          "base_uri": "https://localhost:8080/"
        },
        "outputId": "4869d906-b141-427b-b551-1abd5a66b937"
      },
      "source": [
        "# Download and unzip dataset\n",
        "\n",
        "!wget https://s3-ap-southeast-1.amazonaws.com/he-public-data/dataset52a7b21.zip\n",
        "!unzip dataset52a7b21.zip"
      ],
      "execution_count": null,
      "outputs": [
        {
          "output_type": "stream",
          "text": [
            "--2021-07-30 19:50:44--  https://s3-ap-southeast-1.amazonaws.com/he-public-data/dataset52a7b21.zip\n",
            "Resolving s3-ap-southeast-1.amazonaws.com (s3-ap-southeast-1.amazonaws.com)... 52.219.128.106\n",
            "Connecting to s3-ap-southeast-1.amazonaws.com (s3-ap-southeast-1.amazonaws.com)|52.219.128.106|:443... connected.\n",
            "HTTP request sent, awaiting response... 200 OK\n",
            "Length: 1061576029 (1012M) [binary/octet-stream]\n",
            "Saving to: ‘dataset52a7b21.zip’\n",
            "\n",
            "dataset52a7b21.zip  100%[===================>]   1012M  14.0MB/s    in 76s     \n",
            "\n",
            "2021-07-30 19:52:01 (13.3 MB/s) - ‘dataset52a7b21.zip’ saved [1061576029/1061576029]\n",
            "\n",
            "Archive:  dataset52a7b21.zip\n",
            "   creating: dataset/\n",
            "  inflating: dataset/train.csv       \n",
            "  inflating: dataset/sample_submission.csv  \n",
            "  inflating: dataset/test.csv        \n",
            "  inflating: dataset/.~lock.train.csv#  \n"
          ],
          "name": "stdout"
        }
      ]
    },
    {
      "cell_type": "code",
      "metadata": {
        "id": "xNhbbZLV8Qlr",
        "colab": {
          "base_uri": "https://localhost:8080/"
        },
        "outputId": "938ae935-aa91-4374-cfd1-5e2bc6646218"
      },
      "source": [
        "# Download nltk stopwords\n",
        "\n",
        "nltk.download('stopwords')"
      ],
      "execution_count": null,
      "outputs": [
        {
          "output_type": "stream",
          "text": [
            "[nltk_data] Downloading package stopwords to /root/nltk_data...\n",
            "[nltk_data]   Unzipping corpora/stopwords.zip.\n"
          ],
          "name": "stdout"
        },
        {
          "output_type": "execute_result",
          "data": {
            "text/plain": [
              "True"
            ]
          },
          "metadata": {
            "tags": []
          },
          "execution_count": 20
        }
      ]
    },
    {
      "cell_type": "code",
      "metadata": {
        "id": "AOnUgUclx_2R"
      },
      "source": [
        "# Import the dataset in pandas\n",
        "\n",
        "df_ = pd.read_csv(\"dataset/train.csv\", low_memory=True, escapechar=\"\\\\\", quoting=csv.QUOTE_NONE)\n",
        "\n",
        "df = df_.head(50000)"
      ],
      "execution_count": null,
      "outputs": []
    },
    {
      "cell_type": "code",
      "metadata": {
        "id": "PNqXrG9_0VA3"
      },
      "source": [
        "# Add the column variables here\n",
        "\n",
        "TITLE = \"TITLE\"\n",
        "PRODUCT_ID = \"PRODUCT_ID\"\n",
        "DESCRIPTION = \"DESCRIPTION\"\n",
        "BULLET_POINTS = \"BULLET_POINTS\"\n",
        "BRAND = \"BRAND\"\n",
        "BROWSE_NODE_ID = \"BROWSE_NODE_ID\"\n",
        "\n",
        "SIZE = 50000"
      ],
      "execution_count": null,
      "outputs": []
    },
    {
      "cell_type": "code",
      "metadata": {
        "id": "27j793xDx_zd"
      },
      "source": [
        "# Load the doc\n",
        "def load_doc(df):\n",
        "  titles = ' '.join(df[TITLE].fillna('').astype(str))\n",
        "  descriptions = ' '.join(df[DESCRIPTION].fillna('').astype(str))\n",
        "  bullets = ' '.join(df[BULLET_POINTS].fillna('').astype(str))\n",
        "\n",
        "  return (titles + descriptions + bullets)"
      ],
      "execution_count": null,
      "outputs": []
    },
    {
      "cell_type": "code",
      "metadata": {
        "id": "t57SfV219MkS"
      },
      "source": [
        "# To remove html tags\n",
        "\n",
        "def cleanhtml(raw_html):\n",
        "  cleanr = re.compile('<.*?>') # replace with re.compile('<.*?>|&([a-z0-9]+|#[0-9]{1,6}|#x[0-9a-f]{1,6});') for more strictness\n",
        "  cleantext = re.sub(cleanr, '', raw_html)\n",
        "  return cleantext"
      ],
      "execution_count": null,
      "outputs": []
    },
    {
      "cell_type": "code",
      "metadata": {
        "id": "-JAUkgHEx_w2"
      },
      "source": [
        "def clean_doc(doc):\n",
        "  doc = cleanhtml(doc)\n",
        "  tokens = doc.split() # Add delimiter if needed\n",
        "\n",
        "  punctuations = str.maketrans('','', string.punctuation)\n",
        "\n",
        "  tokens = [w.translate(punctuations) for w in tokens]\n",
        "  tokens = [word for word in tokens if word.isalpha()]\n",
        "  stop_words = set(stopwords.words(\"english\"))\n",
        "  #print(\"stop\", stop_words)\n",
        "  tokens = [w for w in tokens if not w.casefold() in stop_words]\n",
        "\n",
        "  tokens = [word for word in tokens if len(word) > 1]\n",
        "\n",
        "  return tokens\n"
      ],
      "execution_count": null,
      "outputs": []
    },
    {
      "cell_type": "code",
      "metadata": {
        "id": "ttnDw3-wx_pA"
      },
      "source": [
        "# Create, Store, and Read Hashmap functions\n",
        "\n",
        "def create_hashmap(dataframe):\n",
        "    from collections import defaultdict\n",
        "    Hashmap = defaultdict(list)\n",
        "\n",
        "    for i, [brand, id] in enumerate(dataframe.values[:, [3, 4]]):\n",
        "        if int(id) not in Hashmap[str(brand)]:\n",
        "            Hashmap[str(brand)].append(int(id))\n",
        "\n",
        "    return Hashmap\n",
        "\n",
        "def store_hashmap(Hashmap, filename=\"Hashmap\"):\n",
        "    \n",
        "    with open(filename + '.pickle', 'wb') as handle:\n",
        "        pickle.dump(Hashmap, handle)\n",
        "\n",
        "def read_hashmap(filename=\"Hashmap\"):\n",
        "    \n",
        "    with open(filename + '.pickle', 'rb') as handle:\n",
        "        Hashmap = pickle.load(handle)\n",
        "\n",
        "    return Hashmap"
      ],
      "execution_count": null,
      "outputs": []
    },
    {
      "cell_type": "code",
      "metadata": {
        "id": "rdR18bhKeWS-"
      },
      "source": [
        "# Add words to vocab\n",
        "\n",
        "def add_doc_to_vocab(df, vocab):\n",
        "  doc = load_doc(df)\n",
        "  tokens = clean_doc(doc)\n",
        "  vocab.update(tokens)"
      ],
      "execution_count": null,
      "outputs": []
    },
    {
      "cell_type": "code",
      "metadata": {
        "id": "Z4drXt6q_jnG"
      },
      "source": [
        "# Save the vocab\n",
        "\n",
        "def save_list(lines, filename):\n",
        "    # convert the lines into single blob of text\n",
        "    data = '\\n'.join(lines)\n",
        "    file = open(filename, 'w')\n",
        "    file.write(data)\n",
        "    file.close()"
      ],
      "execution_count": null,
      "outputs": []
    },
    {
      "cell_type": "code",
      "metadata": {
        "id": "qWNyeYw3hW2f"
      },
      "source": [
        "# create the vocab\n",
        "\n",
        "vocab = Counter()\n",
        "add_doc_to_vocab(df, vocab)\n",
        "\n",
        "# print(vocab.most_common(50))"
      ],
      "execution_count": null,
      "outputs": []
    },
    {
      "cell_type": "code",
      "metadata": {
        "id": "0_Ecwx_Y9P5F"
      },
      "source": [
        "# Save vocab according to occurance\n",
        "\n",
        "min_occurance = 5\n",
        "tokens = [k for k,c in vocab.items() if c >= min_occurance]\n",
        "\n",
        "save_list(tokens, \"vocab.txt\")"
      ],
      "execution_count": null,
      "outputs": []
    },
    {
      "cell_type": "code",
      "metadata": {
        "id": "wAN1vTvlObZI"
      },
      "source": [
        "# def create_splits():\n",
        "#   n = len(df)\n",
        "#   train_factor = math.ceil(n*0.7)\n",
        "\n",
        "#   X_train = df[:train_factor]\n",
        "#   X_Validation = df[train_factor:]\n",
        "\n",
        "#   return X_train, X_Validation\n"
      ],
      "execution_count": null,
      "outputs": []
    },
    {
      "cell_type": "code",
      "metadata": {
        "id": "vFHXA-VjQPWJ",
        "colab": {
          "base_uri": "https://localhost:8080/"
        },
        "outputId": "261dec9e-8a33-4a3a-879d-7058fa8892a8"
      },
      "source": [
        "#Create SENTENCE by combining TITLE, DESCRIPTIONS, BULLET POINTS\n",
        "def create_sentences(df):\n",
        "\n",
        "  df[BULLET_POINTS] = df[BULLET_POINTS].str.strip('[]').astype(str)\n",
        "  df['SENTENCES'] = df[df.columns[0:3]].apply(lambda x: ', '.join(x.fillna('').astype(str)),axis=1)\n",
        "  df.SENTENCES = df.SENTENCES.astype(str)\n",
        "  df['SENTENCES'] = df.apply(lambda row: clean_doc(row.SENTENCES), axis=1)\n",
        "  df['SENTENCES'] = df['SENTENCES'].apply(lambda x: ' '.join(map(str, x)))\n",
        "\n",
        "\n",
        "  return df\n",
        "\n",
        "df1 = create_sentences(df)\n"
      ],
      "execution_count": null,
      "outputs": [
        {
          "output_type": "stream",
          "text": [
            "/usr/local/lib/python3.7/dist-packages/ipykernel_launcher.py:4: SettingWithCopyWarning: \n",
            "A value is trying to be set on a copy of a slice from a DataFrame.\n",
            "Try using .loc[row_indexer,col_indexer] = value instead\n",
            "\n",
            "See the caveats in the documentation: https://pandas.pydata.org/pandas-docs/stable/user_guide/indexing.html#returning-a-view-versus-a-copy\n",
            "  after removing the cwd from sys.path.\n",
            "/usr/local/lib/python3.7/dist-packages/ipykernel_launcher.py:5: SettingWithCopyWarning: \n",
            "A value is trying to be set on a copy of a slice from a DataFrame.\n",
            "Try using .loc[row_indexer,col_indexer] = value instead\n",
            "\n",
            "See the caveats in the documentation: https://pandas.pydata.org/pandas-docs/stable/user_guide/indexing.html#returning-a-view-versus-a-copy\n",
            "  \"\"\"\n",
            "/usr/local/lib/python3.7/dist-packages/pandas/core/generic.py:5170: SettingWithCopyWarning: \n",
            "A value is trying to be set on a copy of a slice from a DataFrame.\n",
            "Try using .loc[row_indexer,col_indexer] = value instead\n",
            "\n",
            "See the caveats in the documentation: https://pandas.pydata.org/pandas-docs/stable/user_guide/indexing.html#returning-a-view-versus-a-copy\n",
            "  self[name] = value\n",
            "/usr/local/lib/python3.7/dist-packages/ipykernel_launcher.py:7: SettingWithCopyWarning: \n",
            "A value is trying to be set on a copy of a slice from a DataFrame.\n",
            "Try using .loc[row_indexer,col_indexer] = value instead\n",
            "\n",
            "See the caveats in the documentation: https://pandas.pydata.org/pandas-docs/stable/user_guide/indexing.html#returning-a-view-versus-a-copy\n",
            "  import sys\n",
            "/usr/local/lib/python3.7/dist-packages/ipykernel_launcher.py:8: SettingWithCopyWarning: \n",
            "A value is trying to be set on a copy of a slice from a DataFrame.\n",
            "Try using .loc[row_indexer,col_indexer] = value instead\n",
            "\n",
            "See the caveats in the documentation: https://pandas.pydata.org/pandas-docs/stable/user_guide/indexing.html#returning-a-view-versus-a-copy\n",
            "  \n"
          ],
          "name": "stderr"
        }
      ]
    },
    {
      "cell_type": "code",
      "metadata": {
        "id": "qNECiYDDQQt4"
      },
      "source": [
        "def open_vocab(filename):\n",
        "  file = open(filename, 'r')\n",
        "  text = file.read()\n",
        "  file.close()\n",
        "  return text\n"
      ],
      "execution_count": null,
      "outputs": []
    },
    {
      "cell_type": "code",
      "metadata": {
        "id": "bp79FC1wSlRt",
        "colab": {
          "base_uri": "https://localhost:8080/"
        },
        "outputId": "4385ea82-63a7-4192-f441-4409af7e4cca"
      },
      "source": [
        "vocab = open_vocab(\"vocab.txt\")\n",
        "vocab = vocab.split()\n",
        "vocab = set(vocab)\n",
        "print(vocab)"
      ],
      "execution_count": null,
      "outputs": [
        {
          "output_type": "stream",
          "text": [
            "{'Stiff', 'Glacier', 'muesli', 'SpatulaChrome', 'BoxedWeight', 'melted', 'would', 'chrome', 'Disclaimer', 'Comfortable', 'wound', 'wonderful', 'Kenko', 'hander', 'Flash', 'DesignClear', 'calculatorTeaches', 'Range', 'square', 'Melamine', 'joined', 'lbs', 'shaft', 'definitely', 'allow', 'Costa', 'waterdispersal', 'EPADHA', 'brush', 'easier', 'hardened', 'zoom', 'Projection', 'edge', 'indestructible', 'little', 'Connection', 'items', 'packRound', 'seal', 'fingersWont', 'User', 'stapler', 'stainless', 'transporting', 'Dhandle', 'correction', 'handpainted', 'Main', 'set', 'Storage', 'degrees', 'British', 'filter', 'desired', 'Video', 'Acrylics', 'scrapbook', 'breakfast', 'Action', 'learn', 'seams', 'Raglan', 'soilLarge', 'Jeans', 'Front', 'coarse', 'powdercoated', 'Brava', 'Edt', 'qualityExpandable', 'Soap', 'critical', 'Dualfunction', 'Stock', 'pressure', 'transport', 'Emblem', 'extended', 'lets', 'viewing', 'easytohandle', 'react', 'Enriched', 'fabricRealistic', 'comb', 'feature', 'shopping', 'WMA', 'color', 'center', 'Throwing', 'alkaline', 'measurement', 'ColorBlack', 'applicationResult', 'described', 'Per', 'Long', 'gauge', 'glossy', 'warming', 'Please', 'Vegetarian', 'piece', 'hard', 'enrich', 'TwoYear', 'hood', 'Create', 'ready', 'rings', 'tablets', 'twohanded', 'along', 'VGA', 'Filters', 'Sneakers', 'Spray', 'may', 'rollingCrack', 'accolades', 'Ebon', 'formation', 'StrengthTested', 'Convertible', 'GLASS', 'arm', 'ages', 'popular', 'also', 'Magnet', 'precise', 'BeatersDough', 'Clipper', 'dogsHelps', 'anywhere', 'Platinum', 'strength', 'powder', 'selected', 'Handles', 'soil', 'filesCompatible', 'jewel', 'Bank', 'Replica', 'cream', 'interests', 'Japanese', 'Swinging', 'improving', 'Ltd', 'studLowfriction', 'electronic', 'works', 'preventing', 'Task', 'hoof', 'Skyhorse', 'accommodates', 'easysnap', 'forest', 'Condensor', 'Cabinets', 'Visual', 'Doors', 'manufacturers', 'almost', 'Superb', 'sets', 'postconsumer', 'Kong', 'goals', 'NoteThis', 'presetsRecord', 'BRKT', 'positioningOver', 'board', 'control', 'coolest', 'options', 'response', 'hydrateReduces', 'knives', 'finger', 'aquarium', 'turn', 'Pocket', 'people', 'Pencil', 'file', 'musical', 'Grips', 'Terror', 'Howatch', 'reciept', 'operationFull', 'healthy', 'properties', 'plasticChrome', 'receives', 'AlloySeries', 'strings', 'HANDED', 'Extreme', 'installation', 'sport', 'rapid', 'Cable', 'Artificial', 'Deep', 'Vitamin', 'Cases', 'balanced', 'notebook', 'offcenter', 'portability', 'CABLE', 'TabletsQuantity', 'quantity', 'compose', 'MANUFACTURING', 'Sprayer', 'consistently', 'starter', 'desktop', 'Farberware', 'guide', 'cuddlyLeading', 'Blue', 'Layer', 'webs', 'entirely', 'professionals', 'attire', 'simultaneously', 'Handbook', 'company', 'HubCentric', 'Charles', 'handle', 'Bracket', 'PACKING', 'Full', 'Crunch', 'mostly', 'cut', 'discno', 'Absorbs', 'prominent', 'Tents', 'derivatives', 'VHS', 'wear', 'Goosebumps', 'performers', 'cast', 'chromeplated', 'companies', 'Swinger', 'secure', 'naptime', 'BOX', 'Resolution', 'Contains', 'Gage', 'Improve', 'plugandplay', 'measures', 'decor', 'capacityArchive', 'MAY', 'original', 'saturates', 'USB', 'cereals', 'foot', 'Aluminum', 'simplest', 'Pelikan', 'Mini', 'adjusts', 'Measures', 'method', 'Tablets', 'juicy', 'Steering', 'magnetIdeal', 'adhesiveAllows', 'multifunction', 'firm', 'basket', 'Alternatively', 'Flip', 'recorderListen', 'pricing', 'HANGERUnit', 'accuracy', 'precision', 'Capacity', 'cutlery', 'colorThis', 'Artist', 'Colors', 'Men', 'fabric', 'DVDR', 'affordable', 'Grades', 'Cartridge', 'studioEasy', 'Tires', 'Practical', 'ensure', 'multimedia', 'PC', 'organizer', 'unrestricted', 'Equine', 'tail', 'Comes', 'improves', 'day', 'cannot', 'Waterdispersal', 'Dolls', 'Cards', 'Epoxy', 'proteins', 'application', 'InterDesign', 'Steak', 'barakhadi', 'Wrapped', 'recycled', 'tolerance', 'Red', 'Meters', 'dogs', 'pencil', 'Hertz', 'PCMSKIT', 'Inner', 'angle', 'thin', 'Body', 'suregrip', 'Professional', 'HOpenable', 'Tray', 'committed', 'Years', 'add', 'Oz', 'flash', 'Sixties', 'colorRigid', 'lightTeaLights', 'Docking', 'Rico', 'PRIOR', 'DURABLE', 'small', 'Width', 'digging', 'round', 'Months', 'taken', 'images', 'page', 'Denim', 'Est', 'dry', 'Baster', 'Philips', 'Mitutoyo', 'Hawkeye', 'level', 'shocks', 'SabianHHX', 'linear', 'Bohumil', 'FEMALE', 'enjoy', 'thus', 'moviesBack', 'Tracking', 'capacityintensive', 'QualityHyper', 'ground', 'furniture', 'TUV', 'instrumentsIntegral', 'saturation', 'treasured', 'Comfort', 'crevices', 'oneyear', 'ash', 'ounce', 'capacitance', 'payable', 'low', 'cord', 'fine', 'blurAlso', 'ensures', 'Digging', 'erased', 'chip', 'remember', 'airdry', 'ink', 'Eliminates', 'could', 'temperature', 'Port', 'metric', 'Valuable', 'Dog', 'marketer', 'odorReduces', 'range', 'many', 'DAddario', 'fitting', 'Violet', 'Replacement', 'Angle', 'Sally', 'skill', 'unconditional', 'interior', 'without', 'Save', 'mobileStackable', 'output', 'dinnerware', 'neutralise', 'six', 'Quality', 'look', 'smooth', 'Packaged', 'Blues', 'stackableWorks', 'Packs', 'high', 'FLAG', 'child', 'guaranteed', 'shoes', 'whole', 'first', 'bonding', 'Niacin', 'Lens', 'Blending', 'individual', 'Suspension', 'See', 'craftsmen', 'Preserving', 'BPAFree', 'Amazoncom', 'DualLayer', 'Efficacy', 'tools', 'quick', 'profile', 'MIDI', 'change', 'body', 'retention', 'Planner', 'sharpens', 'finding', 'ideal', 'solid', 'kg', 'staycool', 'Provides', 'Model', 'NATIONAL', 'Brush', 'bestinclass', 'stays', 'Bolts', 'MMC', 'stirs', 'Lesson', 'floor', 'heavyduty', 'part', 'cardstock', 'instal', 'ml', 'Board', 'handlePerfect', 'Animals', 'tubes', 'performance', 'Deodorant', 'recipes', 'Analog', 'Wider', 'paralyze', 'Material', 'ergonomics', 'lettering', 'removable', 'Strings', 'cable', 'coating', 'sun', 'Instead', 'ourdoors', 'plastic', 'access', 'Parsley', 'allows', 'path', 'Blade', 'length', 'packed', 'plush', 'Air', 'Dumbbell', 'Paint', 'Close', 'battery', 'Snowspeeder', 'secondsBe', 'designMeasures', 'fabulous', 'documentsEfficient', 'guaranteeAll', 'grownups', 'Academic', 'point', 'Diameter', 'balanceReduced', 'desk', 'skirts', 'lend', 'detailing', 'heft', 'Fairytopia', 'astonishing', 'acrylic', 'Products', 'Alloy', 'preload', 'produced', 'Use', 'Lead', 'qualityThe', 'long', 'Brack', 'highperformance', 'easytoclean', 'collarandbulb', 'STUDIO', 'Beige', 'single', 'sourceIncludes', 'bites', 'spray', 'OsterR', 'HHXTREME', 'Good', 'Back', 'RaveMP', 'Dark', 'Canopy', 'Available', 'normal', 'free', 'cup', 'Mix', 'scentreduced', 'fanatically', 'Spacers', 'nature', 'gripThis', 'capacity', 'amplified', 'Spanner', 'Pen', 'convenient', 'cuddly', 'Tennis', 'comfortable', 'plasticEasy', 'singlesided', 'juices', 'tempering', 'secret', 'mastering', 'outlasts', 'please', 'creating', 'home', 'record', 'AmeriKid', 'Remote', 'However', 'contact', 'going', 'Surface', 'perspectives', 'displays', 'cables', 'Basket', 'Instrument', 'pencils', 'maintain', 'Institute', 'Carrot', 'wood', 'contains', 'Used', 'Coffeemaker', 'Sexto', 'Manufacture', 'Mounting', 'Real', 'stainingExcellent', 'IC', 'gripLightweight', 'Pencils', 'FairytopiaEach', 'archiving', 'knife', 'RVing', 'Made', 'Kit', 'serve', 'magical', 'White', 'Dogan', 'holding', 'wJewel', 'tough', 'airbrush', 'Yellow', 'Fred', 'Female', 'security', 'drops', 'dampening', 'Collapsible', 'Meco', 'Inches', 'separately', 'trapped', 'divided', 'animals', 'plate', 'Set', 'Widen', 'fastener', 'Ball', 'apologize', 'thinking', 'barriers', 'Progressive', 'comes', 'fluid', 'COLLECTION', 'hasslefree', 'Process', 'hardnessHand', 'rack', 'Beauty', 'WouldVe', 'Verithin', 'Steamer', 'UKIndia', 'boomerangs', 'safe', 'Scent', 'Life', 'features', 'bacteria', 'cant', 'handlingMade', 'Scale', 'carbon', 'PouchBand', 'Collectible', 'Pattern', 'powerful', 'dividing', 'suitable', 'dietary', 'games', 'KVM', 'collapses', 'mg', 'painful', 'marksHighquality', 'SpacerSize', 'finished', 'qualityCompatible', 'doesnt', 'backgrounds', 'Digimatic', 'lifetimeGrasp', 'Extract', 'Panter', 'applying', 'familia', 'WoodSizeCapacity', 'Open', 'KidsChewable', 'used', 'acidfree', 'cover', 'Disc', 'StraightEdge', 'Figure', 'speed', 'plated', 'SPL', 'Bow', 'rocks', 'transmits', 'game', 'Spacer', 'ExplorMADE', 'stalled', 'Points', 'Optical', 'back', 'Compatible', 'interactive', 'Triangular', 'Training', 'OutdriveDrive', 'sections', 'Quick', 'altering', 'Designed', 'latercontinue', 'exceptional', 'ringsEliminates', 'MerryMakers', 'Cardioid', 'create', 'EIBACH', 'Product', 'heavy', 'Assembly', 'money', 'PairPart', 'Switzerland', 'controller', 'CREEPY', 'develops', 'Description', 'SABIAN', 'Rio', 'makes', 'Audio', 'music', 'mm', 'voice', 'BazzillMono', 'WGuide', 'SPECIFICATIONS', 'complex', 'inflatable', 'includes', 'Cardstock', 'NA', 'CryogenX', 'SABIANHHX', 'Outs', 'shrink', 'burn', 'Clean', 'Arrow', 'competitive', 'profiles', 'generate', 'easy', 'products', 'digital', 'Gurbuz', 'equipped', 'Gem', 'blades', 'upMeasures', 'lots', 'improved', 'promote', 'superior', 'reservoir', 'Oster', 'different', 'Support', 'Attention', 'large', 'collection', 'audio', 'support', 'sports', 'include', 'Chrome', 'ComplexHigh', 'utilizing', 'easily', 'tank', 'staining', 'unwanted', 'intelligent', 'cerealThe', 'Hand', 'Tidbit', 'safeMicrowave', 'prey', 'deadly', 'Doll', 'punch', 'grill', 'Alumicolor', 'tidy', 'scientifically', 'inch', 'bowls', 'cause', 'Plastic', 'spiders', 'Rice', 'Easy', 'efficient', 'tall', 'date', 'Number', 'sheetsEach', 'water', 'head', 'evenlyRoll', 'since', 'nonelectric', 'optional', 'personal', 'productivity', 'corrosion', 'KINGDOM', 'Pine', 'manufacturer', 'pjs', 'casesSupported', 'calculator', 'Start', 'coverHigh', 'CRASH', 'Month', 'SOLD', 'timeIts', 'feet', 'loverIt', 'mounting', 'remove', 'Exceptional', 'PAIR', 'Sidewinder', 'miniprocessor', 'dishwasher', 'WhiteMulti', 'Admiring', 'Fertilizer', 'Simply', 'skilled', 'Microsoft', 'SD', 'highstrength', 'Lacquer', 'element', 'last', 'condenser', 'Oval', 'Interior', 'APPEARANCE', 'dense', 'OPI', 'pairs', 'leaves', 'fire', 'CottonNeck', 'Grill', 'BasterUnique', 'humans', 'chafing', 'Category', 'digestive', 'hunting', 'comfort', 'fun', 'panel', 'scentReduces', 'noise', 'days', 'Clicker', 'picnics', 'nutrients', 'maximizes', 'capability', 'switching', 'hipass', 'heatup', 'leverage', 'provide', 'Lb', 'Fiskars', 'Shelby', 'criss', 'magnet', 'permanentlyAvailable', 'Fun', 'entering', 'even', 'organized', 'Zojirushis', 'found', 'Battery', 'Games', 'love', 'bedtimeSafe', 'Pill', 'guitar', 'penetrate', 'business', 'new', 'attractive', 'PackEnormous', 'observational', 'safety', 'trunk', 'Magic', 'versatile', 'surfaceSixposition', 'Side', 'Carafe', 'easyrolling', 'ceramic', 'clothing', 'vowel', 'doubles', 'wild', 'tiltaway', 'concentration', 'pair', 'microwave', 'Id', 'materials', 'pieces', 'wings', 'button', 'bottom', 'Rings', 'uniform', 'Nuts', 'alREALISTIC', 'room', 'acidic', 'storageCompatible', 'pocketMagnetic', 'Perfumed', 'NOTICE', 'colorcoded', 'grateash', 'Shock', 'via', 'PRODUCT', 'Modern', 'sounds', 'Musical', 'useIdeal', 'cleaning', 'oversized', 'Hansen', 'added', 'get', 'mounted', 'Vocabulary', 'TShirts', 'collar', 'Eibach', 'valuable', 'Perixx', 'finishing', 'forms', 'Plush', 'Features', 'OXO', 'COUPC', 'mineral', 'starts', 'tension', 'wet', 'wrist', 'familyowned', 'ATM', 'counteracts', 'raisins', 'extralarge', 'colors', 'consistencyUniform', 'Chewable', 'shine', 'prevents', 'shuts', 'wimpy', 'optionsFlat', 'proof', 'Tiltaway', 'effective', 'States', 'slippers', 'combining', 'elevated', 'weight', 'RH', 'Writes', 'assistance', 'Woodcase', 'events', 'lowend', 'checking', 'Toy', 'horse', 'bright', 'Oak', 'sesame', 'odor', 'removalColored', 'reigns', 'assembly', 'BulkyIdeal', 'package', 'Aircraftaluminum', 'Blocker', 'Compared', 'Caps', 'vents', 'maximize', 'PlattAlso', 'BoomerangsNOTE', 'dollBased', 'Navy', 'savings', 'variety', 'Connects', 'Shield', 'removalIncludes', 'spring', 'inject', 'Single', 'Hrabal', 'Wonderful', 'changes', 'Adapter', 'outsWith', 'cardioid', 'Wrangler', 'frequency', 'maximum', 'world', 'Turkey', 'Publishing', 'waste', 'doors', 'liquids', 'Response', 'cart', 'erasableErasable', 'Morning', 'Eksioglu', 'laptop', 'workplace', 'wrinkle', 'Without', 'stance', 'CD', 'basic', 'Annemarie', 'American', 'snap', 'girls', 'effectively', 'Fluid', 'Man', 'Jewel', 'included', 'Portable', 'TraysDurable', 'read', 'fit', 'Birthday', 'Glow', 'Rolling', 'fabrics', 'endless', 'Player', 'odors', 'Pete', 'dryness', 'commercial', 'repositioning', 'folders', 'hose', 'Frame', 'Male', 'boomerang', 'carafes', 'toes', 'staple', 'Poles', 'stained', 'blank', 'Switch', 'keeps', 'Dragonfly', 'Chlorophyll', 'La', 'hook', 'vitality', 'Charcoal', 'making', 'curry', 'light', 'James', 'Medium', 'results', 'Chemical', 'Live', 'crisp', 'appears', 'Mexican', 'resharpened', 'seals', 'best', 'similar', 'cuticles', 'health', 'steam', 'far', 'scale', 'HHX', 'Black', 'Chapin', 'Hungry', 'choices', 'mobility', 'lid', 'Amway', 'computer', 'Wood', 'temperatures', 'dough', 'Cover', 'Mens', 'Cup', 'Thermal', 'Lloyd', 'Hard', 'Innovation', 'Fortifying', 'wPART', 'accordingly', 'RoomLink', 'task', 'HDS', 'connection', 'positioning', 'ACDelco', 'surface', 'Vinyldipped', 'drives', 'Country', 'Crash', 'Engineer', 'porcelain', 'skillsParent', 'passive', 'extreme', 'Group', 'Hz', 'fiberglass', 'vocabulary', 'Connoisseurs', 'Receiver', 'nickelplated', 'brewing', 'customer', 'Hunt', 'heavyweight', 'live', 'equipmentInstallation', 'America', 'obstructionsUncompromising', 'books', 'Engine', 'adding', 'attachment', 'Includes', 'matter', 'pictures', 'Devoted', 'nails', 'Free', 'medium', 'slick', 'DPad', 'Polygel', 'rolloff', 'PenBullet', 'files', 'Swingout', 'agents', 'controltouch', 'width', 'Pink', 'camping', 'equipment', 'height', 'covers', 'Porcelain', 'link', 'stands', 'Launcher', 'Girls', 'cuddle', 'catering', 'eaters', 'keyboards', 'Puerto', 'space', 'break', 'ApprovedMaterial', 'Osters', 'Unique', 'Cuticle', 'Buddy', 'unorganized', 'withstand', 'EU', 'come', 'Jiffy', 'mouth', 'inevitably', 'manufacturing', 'OPTICAL', 'Wheel', 'porcelainPlayful', 'paper', 'trailering', 'guard', 'Handsome', 'mane', 'warranty', 'positive', 'buttons', 'shampoo', 'savingsKids', 'dispersion', 'carries', 'instructions', 'pick', 'password', 'durabilityQuick', 'TShirt', 'wiring', 'dhandle', 'tested', 'Sony', 'let', 'MODULE', 'Keyboard', 'ICAUDIO', 'Pre', 'History', 'Coordinates', 'Steel', 'kit', 'stylish', 'welded', 'MixerWire', 'loveHigh', 'Iron', 'keep', 'Pin', 'gigabyte', 'sharp', 'Ring', 'clad', 'CABLES', 'Applications', 'Contents', 'reduces', 'featureSwingout', 'Forschner', 'wrapped', 'Double', 'nourishes', 'Company', 'LARGE', 'nutsThese', 'volt', 'cards', 'helps', 'setup', 'handles', 'account', 'reach', 'cooking', 'sophisticated', 'Length', 'longlasting', 'HDTV', 'MelamineDishwasher', 'riceDimensions', 'United', 'Murrayy', 'Guide', 'lessons', 'Flashing', 'Care', 'stiff', 'inchesString', 'venom', 'fundamentalsFits', 'team', 'expose', 'Mouse', 'triggers', 'children', 'Widow', 'Clear', 'duty', 'Seater', 'bonds', 'collectionDishwasher', 'felled', 'charge', 'cotton', 'material', 'wire', 'entire', 'essentialsKeep', 'calcium', 'burnout', 'nan', 'format', 'Top', 'Bottle', 'finishHandcrafted', 'sound', 'volumesProtected', 'area', 'ftPete', 'longer', 'grooming', 'cuts', 'thoroughly', 'style', 'RoomLInk', 'wont', 'earbuds', 'Round', 'rolls', 'Media', 'Weight', 'adjustable', 'projectors', 'searching', 'ease', 'Individual', 'Perfect', 'construction', 'fits', 'containing', 'Barakhadi', 'classic', 'steelKeeps', 'Vitality', 'aid', 'sinks', 'Ideal', 'Colored', 'Adhesive', 'gold', 'Smoothing', 'food', 'moneysaving', 'carrying', 'memories', 'rolling', 'flexibilityBottle', 'Recordable', 'ozColor', 'supplied', 'Crafts', 'Bosmere', 'brushing', 'roomFrom', 'Hyper', 'hinges', 'soils', 'require', 'crumblingFeatures', 'fiberglassSharpened', 'sheets', 'lead', 'cap', 'parent', 'Cobra', 'hands', 'Multi', 'Nickel', 'Vans', 'natural', 'essentials', 'higher', 'ingredient', 'pouring', 'Forest', 'dirtDelivers', 'Teaches', 'pleasure', 'oriented', 'torque', 'Finish', 'exclusive', 'projects', 'VARY', 'Nourishing', 'facing', 'edgesEach', 'Brain', 'grade', 'print', 'Permanent', 'aircraftaluminum', 'Belkin', 'rear', 'minimal', 'Interface', 'heightEasy', 'important', 'hanging', 'distinctive', 'flip', 'Rack', 'kidney', 'Gauges', 'delicate', 'gamesfamily', 'madeWrites', 'Plate', 'Oscar', 'integral', 'midbrew', 'NAEnormous', 'truly', 'damage', 'Birch', 'Imported', 'enjoyment', 'Flag', 'directly', 'mixer', 'warm', 'Data', 'AudioTechnica', 'old', 'simmering', 'Leatherette', 'keypad', 'cardsFM', 'memory', 'obstructions', 'Rave', 'Organic', 'Gardening', 'store', 'styles', 'craft', 'general', 'Brass', 'controlling', 'receiver', 'charcoal', 'Serving', 'prevention', 'Crystal', 'bank', 'sheet', 'Roll', 'Colorado', 'optimal', 'handy', 'greasy', 'Steam', 'learning', 'view', 'utilityDesign', 'Bedtime', 'Teacher', 'Card', 'looking', 'AircraftAluminum', 'gamesStrategy', 'woodhandled', 'installer', 'USES', 'reassure', 'ControlledRelease', 'shape', 'MelamineThis', 'Cut', 'Joystick', 'Learning', 'flesh', 'RAIL', 'radio', 'Bowl', 'string', 'AQUARIUM', 'Make', 'professional', 'Car', 'compartments', 'Wars', 'Wired', 'brain', 'videos', 'felt', 'modify', 'serving', 'ft', 'documents', 'blade', 'floatingErratic', 'BoomerangsThe', 'make', 'Hindi', 'NONRETURNABLE', 'got', 'history', 'Nutrilite', 'Pouch', 'prepared', 'spanner', 'saturationIdeal', 'sure', 'acid', 'skin', 'enable', 'methodVinyldipped', 'Arsenal', 'defects', 'power', 'Balls', 'Extension', 'writeonce', 'Early', 'Package', 'drawing', 'Sports', 'identity', 'Powder', 'DeanSuper', 'translucent', 'Brand', 'Spider', 'Fisher', 'vinyl', 'Digital', 'applications', 'bond', 'amount', 'wigs', 'beautiful', 'TriPoxy', 'Pour', 'living', 'Power', 'gear', 'within', 'sold', 'service', 'Ever', 'virtue', 'Woodard', 'Highperformance', 'built', 'loose', 'Canopies', 'Glance', 'optical', 'paint', 'EcoControl', 'play', 'Basic', 'areaOrganic', 'Barrel', 'Pvc', 'Princes', 'Box', 'CRT', 'SPACER', 'platform', 'genuine', 'download', 'Sesame', 'Wrench', 'oil', 'cook', 'work', 'tartar', 'MB', 'steamer', 'incredibly', 'quicker', 'Borehub', 'especially', 'extract', 'Lite', 'MAGLHRD', 'wall', 'USA', 'Youthful', 'playback', 'question', 'neutralize', 'case', 'luminosity', 'supply', 'consequences', 'impressive', 'pickup', 'benefits', 'Everyone', 'National', 'Electronic', 'Blend', 'inchesMultiple', 'Kids', 'including', 'mechanical', 'Playful', 'outer', 'additional', 'start', 'Sets', 'DL', 'Barbie', 'moisture', 'force', 'BlueSleeve', 'onlyHighimpact', 'heat', 'GO', 'RIGHT', 'ageing', 'Speed', 'INDUSTRYLEADING', 'DELIVEREDTHE', 'waterfalls', 'liquefy', 'cat', 'glass', 'Children', 'core', 'collect', 'ship', 'addition', 'Helps', 'StarMark', 'Killer', 'choice', 'storage', 'Insights', 'builtin', 'Trunk', 'per', 'remover', 'cycle', 'Series', 'Age', 'crunchiest', 'Westcott', 'pc', 'ProSpacer', 'prevent', 'SALES', 'reliable', 'parentEnrich', 'figures', 'Overall', 'Solid', 'never', 'watt', 'Protection', 'dB', 'Shipped', 'Year', 'telephoto', 'Wallet', 'offset', 'next', 'housing', 'Lego', 'System', 'cm', 'neutral', 'scenes', 'player', 'Windows', 'Great', 'system', 'heating', 'cartridgesBig', 'Featuring', 'pad', 'wellmade', 'Openable', 'usually', 'supreme', 'lowers', 'Label', 'inconvenience', 'top', 'double', 'coffeemaker', 'Equipment', 'chelation', 'hand', 'Textured', 'blue', 'mouse', 'waterproofing', 'AAA', 'Superior', 'smear', 'years', 'Cuts', 'striped', 'offers', 'throwers', 'clodsLifetime', 'Eye', 'polished', 'ballgames', 'tshirt', 'Illinois', 'bounceHeavy', 'seems', 'Crafted', 'durability', 'multiplying', 'Formal', 'One', 'Toslink', 'Cleaning', 'Backdrop', 'life', 'TwoTier', 'resistant', 'PointedTip', 'means', 'tear', 'LaceUpWarranty', 'fullflavored', 'bitter', 'subtracting', 'alloyPrecisionengineered', 'hospitality', 'PRO', 'NTE', 'eye', 'movies', 'Pro', 'Rod', 'spout', 'Golf', 'SloNiacin', 'durabilityConsistent', 'Tea', 'DVD', 'pleasures', 'Bubble', 'Excellent', 'adjustments', 'bodiesKit', 'deliver', 'Depth', 'tone', 'Illuminator', 'electrical', 'four', 'Boomerangs', 'accessHold', 'Fix', 'ways', 'TIME', 'configurations', 'brewpause', 'Adapted', 'survival', 'interesting', 'clarity', 'lifetime', 'Wooden', 'markingsDishwashersafe', 'rich', 'garden', 'Squeakair', 'Siren', 'Enhance', 'shovel', 'indications', 'clusters', 'data', 'filling', 'delivers', 'pattern', 'lapped', 'Light', 'need', 'Familia', 'outlining', 'swivel', 'formationsupport', 'Matte', 'crack', 'Warmer', 'precious', 'versatility', 'shirt', 'Plus', 'Ultimate', 'MP', 'radius', 'clips', 'VIDEO', 'itemFine', 'mature', 'Chassis', 'produce', 'provides', 'quickly', 'take', 'Camera', 'Complete', 'HooksBatter', 'Marvel', 'PairFor', 'fliptop', 'rare', 'everyday', 'Addition', 'die', 'well', 'valve', 'minimizes', 'rimDishwasher', 'clods', 'Reliable', 'Pliers', 'stars', 'Florence', 'Graphite', 'shock', 'overheads', 'De', 'Technology', 'done', 'concentrate', 'Bookcases', 'Removable', 'HIDDEN', 'lines', 'repeatable', 'Fit', 'skincompatibility', 'sizesGreat', 'tightly', 'Widely', 'Bajo', 'SB', 'presharpened', 'glaze', 'overwritten', 'assembled', 'Pack', 'combines', 'harden', 'creditdebit', 'edges', 'pockets', 'two', 'fanatical', 'stored', 'lb', 'stick', 'give', 'Instructions', 'Size', 'Guitar', 'Cacharel', 'size', 'standard', 'constructed', 'photographs', 'microphones', 'Coating', 'fast', 'hex', 'thermal', 'fibre', 'ULTRA', 'design', 'experienced', 'SelfSufficiency', 'Inch', 'takedown', 'FragranceFreeWhite', 'pour', 'canvas', 'loss', 'Tie', 'horses', 'brittleness', 'safely', 'SDMMC', 'Compact', 'Cabinet', 'protect', 'potency', 'Place', 'oz', 'allsteel', 'resistanceUndergo', 'flexible', 'product', 'SC', 'Silver', 'pocket', 'hubcentric', 'Cdstk', 'alarm', 'clamp', 'Succeed', 'air', 'Yorker', 'printing', 'kids', 'Boomerang', 'WHEEL', 'Golden', 'made', 'obsessive', 'protection', 'Pockets', 'elasticity', 'adjusters', 'Unisex', 'Pacific', 'Water', 'Play', 'complete', 'mother', 'Zinc', 'packet', 'coffeeflow', 'Accessories', 'organic', 'Discs', 'town', 'softens', 'Hawaii', 'SPC', 'updated', 'Disk', 'programmed', 'Painting', 'proceed', 'description', 'Hardware', 'highimpact', 'polymer', 'zipper', 'breakageSalon', 'opens', 'grid', 'BlueCanberra', 'Pet', 'hot', 'Knife', 'external', 'Feeling', 'Handy', 'testing', 'office', 'grow', 'Premier', 'Nonabrasive', 'words', 'depth', 'EyeCatching', 'Zero', 'WITHOUT', 'hammer', 'accommodate', 'Raising', 'automation', 'Som', 'Bass', 'commands', 'highest', 'imported', 'spraying', 'clip', 'wash', 'Count', 'MULTIPLE', 'available', 'sporting', 'smoothed', 'step', 'tutorial', 'radioPowered', 'Refrigerator', 'YASHICA', 'bass', 'dirt', 'wherever', 'multiple', 'Head', 'Bottom', 'writing', 'providing', 'Throw', 'electricity', 'Dental', 'save', 'Wrinkle', 'face', 'highend', 'tops', 'Cream', 'MenS', 'Indigo', 'times', 'located', 'funInteractive', 'order', 'DAddarios', 'Yamaha', 'apertures', 'designed', 'sensitive', 'crafted', 'ChromaKey', 'Salad', 'utilityTextured', 'Safari', 'evaporationPour', 'Harvest', 'user', 'thanks', 'sides', 'deeply', 'favorite', 'transform', 'Fairy', 'kinds', 'certain', 'expertise', 'Effortlessly', 'Dermatologist', 'North', 'onlyPhysique', 'slots', 'Adjustable', 'SPLs', 'Heavygauge', 'MATERIALS', 'Keep', 'radicals', 'discs', 'Ft', 'onto', 'Anniversary', 'ATMFeatures', 'Best', 'coathelp', 'brass', 'Bath', 'rice', 'vast', 'persons', 'heatStandard', 'using', 'oval', 'songbook', 'Natural', 'ergonomic', 'TV', 'media', 'environment', 'usable', 'Vertical', 'airplane', 'rust', 'combPatented', 'placement', 'Center', 'item', 'Linear', 'Stanley', 'Effective', 'Lanman', 'alphabet', 'Feet', 'CRAWLY', 'Reduced', 'flat', 'label', 'Leather', 'STANDARDS', 'Name', 'decors', 'Safe', 'reports', 'techniques', 'diggingWelded', 'gets', 'fieldSubject', 'crows', 'protective', 'Hours', 'building', 'effortSelectable', 'grate', 'extra', 'Space', 'Studio', 'EksiogluHandsome', 'Corelle', 'perfect', 'wallet', 'Wild', 'gamespecific', 'HD', 'Unlimted', 'Sabian', 'neat', 'Robin', 'strengthpacked', 'Like', 'Wilton', 'portraiture', 'Type', 'Educational', 'holds', 'Height', 'inches', 'cello', 'clothes', 'File', 'Panther', 'HPF', 'Button', 'zones', 'programming', 'DVDROM', 'fondant', 'manual', 'topselling', 'Software', 'PSI', 'human', 'modern', 'GoVideo', 'roasted', 'Gravity', 'Aurora', 'gift', 'gridThis', 'soft', 'weddings', 'MALE', 'Knusper', 'shutoff', 'time', 'left', 'HandwashOrigin', 'Collection', 'flight', 'carafe', 'clear', 'Tested', 'formula', 'Ink', 'salads', 'Cat', 'everything', 'hold', 'polar', 'compared', 'disc', 'CSE', 'barrel', 'daysCare', 'Regular', 'allowing', 'isolation', 'TVPast', 'Music', 'Precision', 'virtually', 'cartridges', 'scratch', 'Record', 'Tolo', 'carrot', 'grills', 'pen', 'innovative', 'Tone', 'Extra', 'microphone', 'RailPacked', 'video', 'sanitary', 'Pyrrole', 'accessory', 'backlit', 'CandleLITE', 'dump', 'process', 'Anais', 'Flat', 'wide', 'Reynolds', 'fusible', 'lacquer', 'Smiffys', 'designer', 'DIN', 'spacersStrengthtested', 'Elizabeth', 'Pool', 'bulb', 'breed', 'Giant', 'percussion', 'flex', 'details', 'Color', 'Grooming', 'colored', 'remake', 'Zoomate', 'technologies', 'dumbbells', 'quality', 'mannerRight', 'DVI', 'hours', 'action', 'redviolet', 'PinchOff', 'returning', 'throughout', 'doll', 'Alfalfa', 'Thanks', 'young', 'casters', 'content', 'topping', 'movement', 'functionality', 'UIncludes', 'good', 'wideangle', 'magazine', 'discRecord', 'sealed', 'DVIA', 'Rainbow', 'pine', 'Digestive', 'giftComes', 'automatically', 'Returning', 'readout', 'Bar', 'degree', 'Hour', 'Warranty', 'organization', 'SleeveMaterial', 'band', 'Enhancing', 'steel', 'Shop', 'backgroundThese', 'strip', 'right', 'markingsToprack', 'twentyfive', 'Positionable', 'highlight', 'swingout', 'Bella', 'Susan', 'every', 'pigments', 'includedTurns', 'evaporation', 'red', 'Balance', 'KgsProduct', 'note', 'Verbatim', 'switchable', 'delights', 'Chicago', 'drawer', 'filing', 'waterproof', 'Braun', 'Backgrounds', 'leading', 'teaches', 'impact', 'eradicators', 'XTREME', 'Stroller', 'wearresistant', 'Tealights', 'mixed', 'removed', 'impoMade', 'acrylics', 'bearings', 'Giga', 'photos', 'sentences', 'LABELING', 'faster', 'bag', 'way', 'Quartz', 'encoder', 'Magnetic', 'offer', 'Plated', 'whether', 'Activity', 'Adult', 'Lenth', 'ManufacturerProduct', 'ColorWhite', 'combinationsMagic', 'fairy', 'antioxidants', 'muslin', 'LaBella', 'Wound', 'one', 'Reston', 'Slim', 'obsessively', 'slot', 'Victorinox', 'Half', 'PetOriginal', 'Spirit', 'stand', 'Cello', 'reduce', 'Elevated', 'called', 'groaned', 'compact', 'peelLots', 'becomes', 'Small', 'naturally', 'supplies', 'watertank', 'smarter', 'sharpness', 'Fondant', 'coat', 'condition', 'Titanium', 'Pole', 'Engineered', 'String', 'base', 'close', 'spill', 'Hapgood', 'durable', 'ergonomically', 'sensitivity', 'tack', 'Similar', 'expansion', 'engineering', 'warmer', 'Womens', 'side', 'Bolt', 'flavorPlastic', 'Lui', 'crunchy', 'signs', 'card', 'background', 'pickRubber', 'locking', 'great', 'Connecting', 'cash', 'uniquely', 'bearing', 'Baking', 'cross', 'white', 'Sleeve', 'accessories', 'rollingCrackresistant', 'odorless', 'freshly', 'carry', 'coffee', 'Bench', 'Tunnel', 'information', 'spacers', 'bestColorado', 'Microphone', 'sleepy', 'LeatherClosure', 'Illuminated', 'EDT', 'digestibility', 'Cutting', 'better', 'sideaddress', 'help', 'Diecast', 'Rosenthal', 'Alaska', 'scientific', 'special', 'Dreamliner', 'aerodynamic', 'tracking', 'instruments', 'Toys', 'Cab', 'use', 'Go', 'grip', 'minimize', 'Police', 'find', 'finest', 'switch', 'check', 'Although', 'Boeing', 'totally', 'Oil', 'Shovel', 'Women', 'Mixer', 'cutouts', 'recorded', 'Approved', 'Shift', 'model', 'watts', 'softening', 'feed', 'stereo', 'deposits', 'wrench', 'Detailed', 'Casual', 'Grande', 'confirmed', 'Aromaster', 'sushi', 'Coat', 'pasted', 'PCs', 'Prismacolor', 'result', 'Granola', 'Mono', 'players', 'Royal', 'graveyard', 'Florida', 'enables', 'Zojirushi', 'tinting', 'Renta', 'GB', 'ozPack', 'Corrosion', 'less', 'doublelayer', 'Horizontal', 'Dimensions', 'RiteAV', 'cleaner', 'Output', 'backing', 'BoreHub', 'ever', 'emphasize', 'prices', 'baby', 'gilt', 'withdrawals', 'automatic', 'jean', 'canopies', 'finish', 'interface', 'moreDivided', 'Hose', 'full', 'recording', 'lidMeasures', 'wheel', 'Muesli', 'like', 'artist', 'Holders', 'Figures', 'Canin', 'lens', 'End', 'real', 'stores', 'Easily', 'ThailandStylePattern', 'microwavesafe', 'DiameterMounts', 'hundreds', 'BPAfree', 'teardropshaped', 'Sided', 'Copper', 'sharpened', 'nontoxic', 'sealer', 'IWT', 'VAIO', 'SurfacesDecorative', 'Blast', 'poisonous', 'Bazzill', 'basses', 'Gamepad', 'Hood', 'welldone', 'Rosewood', 'fatigue', 'stylingSoft', 'Sold', 'New', 'Helmet', 'minute', 'Nail', 'CarThis', 'leather', 'privatelyheld', 'Star', 'Stainless', 'reading', 'programmable', 'acoustic', 'ball', 'thermally', 'HANGER', 'cabinetFour', 'Borlind', 'filesKeyboard', 'splashes', 'bowl', 'go', 'High', 'focusRealImage', 'OD', 'wheels', 'Organizer', 'Network', 'min', 'excellent', 'television'}\n"
          ],
          "name": "stdout"
        }
      ]
    },
    {
      "cell_type": "code",
      "metadata": {
        "id": "uFB06RBUqfNA",
        "colab": {
          "base_uri": "https://localhost:8080/"
        },
        "outputId": "5d7d458f-4198-4e6d-fbb2-6e0cc6cdc5c8"
      },
      "source": [
        "sentences = []\n",
        "text = []\n",
        "coloumns = list = (df1['SENTENCES'])\n",
        "for i in coloumns:\n",
        "  text = i.split(\" \")\n",
        "  text = [x for x in text if x in vocab]\n",
        "  res = []\n",
        "  for i in text:\n",
        "    if i not in res:\n",
        "        res.append(i)\n",
        "  res = ' '.join(res)\n",
        "  sentences.append(res)\n",
        "\n",
        "sentences = pd.DataFrame(sentences)\n",
        "df1[\"SENTENCES\"] = sentences\n",
        "\n",
        "print(sentences)"
      ],
      "execution_count": null,
      "outputs": [
        {
          "output_type": "stream",
          "text": [
            "['Pete Cat Bedtime Blues Doll Inch coolest popular cat town new MerryMakers rocks striped pjs red slippers one sleepy ready cuddle Measures inches tall Safe ages Removable clothing Surface wash New plush dollBased books James DeanSuper cuddly naptime bedtimeSafe perfect upMeasures', 'New Yorker Refrigerator Magnet Handsome Cello Wrapped Hard measures width height highlight one many beautiful covers full color Cat Tea Cup cover artist Gurbuz Dogan Eksioglu EksiogluHandsome cello wrapped hard magnetIdeal home office gift magazine loverIt colorRigid magnet', 'Ultimate SelfSufficiency Handbook Complete Guide Baking Crafts Gardening Preserving Harvest Raising Animals Skyhorse Publishing', 'Amway Nutrilite Kids Chewable Iron Tablets KidsChewable TabletsQuantity tablets', 'Teacher Planner Company Lesson Academic Leatherette Pink nan', 'MenS Full Sleeve Raglan TShirts Denim TShirt Size Color BlueSleeve SleeveMaterial CottonNeck Round', 'Glance Womens Wallet Black wallet treasured addition accessory collection Featuring attractive design definitely lend sophisticated look crafted durable Artificial Leather material multiple slots accommodate essentials like identity card cash creditdebit cards accessories Comfortable WouldVe Ever Used Textured Finish Provides Comfort Support Without Feeling BulkyIdeal Girls Women Made Size Close Lenth Inches Height inches Width inchesMultiple Id Windows note compartments zipper pocket utilityDesign would loveHigh utilityTextured finish Perfect Casual Formal useIdeal Birthday Anniversary giftComes packed Box', 'Wild Animals Hungry Brain Educational Flash Cards Enhancing Early Learning Month Year animals mostly stays forest require human survival live find food flesh eaters brain flash cards help child learn easily different wild Playful learning develops love fun play mannerRight card right memory baby stored lifetimeGrasp Attention Improve concentration EyeCatching images make without barriers attractive interests children concentrate improves power observational skillsParent bond interesting way create parentEnrich Vocabulary enrich vocabulary also enable remember words speed', 'Hindi Barakhadi Educational Flash Cards Kids Enhance Early Learning Months Years vowel signs sounds important learning formation words individual alphabet joined makes sentences different called barakhadi Playful cards develops love fun play mannerRight brain card right memory baby stored stays lifetimeGrasp Attention Improve concentration EyeCatching images flash make without barriers attractive interests children concentrate improves power observational skillsParent child bond interesting way create parent', 'Chapin Premier Pro TriPoxy Steel Sprayer Fertilizer nan', 'SloNiacin Polygel ControlledRelease Niacin mg Tablets nan', 'White Braun Aromaster Coffeemaker ColorWhite Product description Cup Carafe convenient Swingout filter Practical cord Storage Compact Size Color storage helps keep everything looking neat tidy pleasures taken maximum may result consequences enjoyment coffee one pleasure cant without Everyone enjoy best cup affordable Amazoncom Thanks system quickly saturates ground sealed carafe minimizes evaporation coffeemaker delivers fullflavored doesnt turn bitter warming plate waterdispersal ensures rapid uniform saturation plastic spout automatically opens pouring shuts tightly combining lid prevent features include coffeeflow shutoff removed quick pour brewing cycle swingout basket cleaning fliptop water tank rear model comes clad bright white carries oneyear warranty defects Fred Brack Waterdispersal provides fast full flavorPlastic carafes seals minimize evaporationPour midbrew brewpause featureSwingout watertank lidMeasures inches', 'Yamaha PCMSKIT Portable Electronic Keyboard Adapter PC Joystick MIDI Cable Software teaches play read music record filesKeyboard lessons musical games songbook tutorial includedTurns multimedia recording studioEasy create modify compose print filesCompatible general keyboards', 'Microsoft Sidewinder Gamepad Pro Dualfunction DPad comfortable control Save download programmed game commands gamespecific controller profiles programmable buttons including two triggers Shift button doubles functionality Easy plugandplay USB connection', 'Jiffy Steamer Plastic Steam Head Beige clothes steamer watts plastic steam head Similar model updated design ergonomics Quick heatup time highimpact polymer outer housing watt heating element die cast solid brass Hertz electrical system low profile easytohandle water reservoir new spill check valve cap easy filling hours per colorcoded high temperature wiring fusible link automatic shutoff safety degree swivel casters mobility assembly wrench included Made USA volt North America use onlyHighimpact durabilityQuick two minute Hour hose Year Warranty', 'YASHICA Open Box OPTICAL Zoomate Camera Kit precise fast zoom lens sharpness clarity builtin automation make certain get best pictures virtually effortSelectable Quartz Data Back printing day date passive automatic focusRealImage covers wideangle telephoto perspectives exceptional versatility', 'OXO Good Grips BPAFree Turkey Baster Cleaning Brush BasterUnique collarandbulb design two comfortable grip optionsFlat bulb prevents rollingCrackresistant plastic constructed high heatStandard metric measurement markingsDishwashersafe includes wire cleaning brush Unique shape collar rollingCrack resistant heat plasticEasy read standard markingsToprack dishwasher safe BPAfree', 'Sony VAIO RoomLink Network Media Receiver Use RoomLInk media receiver Record Live TV living roomFrom view digital photos videos recorded Giga Pocket personal video recorderListen PCs music collection home stereo system', 'Westcott Feet Collapsible Backdrop Costa Brava BlueCanberra offers many styles colors quality backgrounds offer quick setup takedown versatility easy portability Illuminator Backgrounds sheet come handpainted muslin ChromaKey fabrics Effortlessly opens collapses secondsBe office home transform unorganized space professional environment perfect backgroundThese back drops highend look', 'InterDesign Basic Basket Medium White Plastic basket chrome handle store carry many different items Made extra durable translucent plasticChrome plated rust proof handles firm gripLightweight mobileStackable', 'Woodard Charles Individual Salad Bowl natural look wood polished ceramic glass variety bowls hand serve salads delights Material Natural Finish WoodSizeCapacity Care HandwashOrigin ThailandStylePattern Wood Angle Sided', 'Meco Swinger Charcoal Grill Black ColorBlack charcoal grills especially handy picnics ballgames camping RVing anywhere people go Tiltaway hood easy action hinges staycool wood handles rolling wheels make transport square inches usable cooking surface chromeplated grid cook rare well done simultaneously Adjustable vents bowl save control temperatures Elevated fire grate ash dump better starts easier cleaning burnout prevention surfaceSixposition gridThis grill six heat zones medium welldone timeIts elevated grateash enables start faster also preventing bottom burn outsWith tiltaway adjustable air makes checking food controlling temperature Designed easyrolling', 'Crystal Blue Ring Pool Made soft inflatable floor safe kids', 'Oscar Pour Lui De La Renta Edt Spray ml Men oz EDT', 'Farberware Hand Mixer Admiring slick chrome finish hand mixer seems fitting equipped feature called Blast Power dough hook attachment watts power reassure wimpy mother groaned stalled going got tough Speed MixerWire BeatersDough HooksBatter Blending SpatulaChrome Plated', 'Positionable Mounting Adhesive Inches Feet Clean dry longlasting odorless adhesiveAllows repositioning items pasted mounted applying pressure bonds permanentlyAvailable ft long rolls wide', 'Zojirushi Thermal Rice Warmer Stainless Steel Zojirushis keeps rice warm thermally Perfect catering ourdoors electricity available steel interior ideal holding sushi riceDimensions nonelectric thermal warmer made durable stainless steelKeeps prepared hot hours without altering consistencyUniform retention transporting stackableWorks well acidic liquids removable lid easytoclean designMeasures', 'GLASS AQUARIUM Pine Cabinet Oak quality pine stands canopies constructed entirely solid wood stand Canopy stained finished waterproofing sealer protect splashes water damage Canopies available Full length doors allow easy access aquarium top nan', 'Sabian Inch HHX Studio Crash STUDIO CRASH Killer SABIANHHX Tone Projection stirs simmering heat musical dirtDelivers Modern Dark tone volumesProtected SABIAN TwoYear Warranty', 'Sabian HHX XTREME Crash Golden HHXTREME CRASH Killer SabianHHX Tone Projection stirs simmering heat musical dirtDelivers Modern Dark tone volumesProtected TwoYear warranty', 'NTE IC Linear ICAUDIO MODULE nan', 'Go DVIA Female VGA Male Analog Extension Cable Meters Black CABLES GO FEMALE MALE VIDEO CABLE Digital Visual Interface DVI standard interface highperformance connection PCs flat panel displays CRT projectors HDTV', 'Verbatim GB Double Layer Recordable Disc DVDR DL Jewel Cases DualLayer Discs wJewel Silver Sold PackEnormous doublelayer storage capacity accommodates longer programming sporting events weddings Ideal archiving home movies precious memories Use backing important business documents capacityintensive application Reliable disc lets store per efficient Compatible DVDROM drives DVD players hasslefree writing reading Permanent writeonce format means data cant overwritten erased Disk Type Capacity HD Video NA min Music NAEnormous capacityArchive moviesBack documentsEfficient reliable storageCompatible discs jewel casesSupported high speed singlesided discno need flip discRecord hours quality television video VHS qualityCompatible Sony Philips Lite leading manufacturers', 'Go Video RaveMP MB Player Includes carrying case arm band sport clip earbuds AAA battery USB cable GoVideo Rave MP Digital Audio compact digital audio player lets take favorite WMA files wherever go builtin memory SDMMC expansion slot add Compatible Hours Battery Life Connects PC via flash holds hours CD qualityExpandable one gigabyte storage SD MMC cardsFM radio presetsRecord voice microphone record radioPowered alkaline playback', 'DAddario Nickel Wound Bass Guitar Strings Medium Sets Long Scale DAddarios topselling heavy gauge bass set Packaged convenient corrosion resistant packRound wound nickelplated steel distinctive bright tone clear fundamentalsFits long scale basses string length inchesString Gauges USA highest quality performance', 'Annemarie Borlind Eye Wrinkle Cream Natural Beauty Fortifying Smoothing Nourishing Est Made Black Forest Organic Sesame Oil Carrot Extract CSE EcoControl rich cream nourishes delicate eye area carrot extract Valuable organic sesame oil helps prevent moisture loss counteracts dryness lines crows feet skin effectively smoothed new elasticity Efficacy skincompatibility scientifically confirmed Free mineral derivatives Vegetarian PRODUCT NONRETURNABLE DELIVEREDTHE PACKING LABELING MAY VARY TIME WITHOUT PRIOR NOTICE', 'Golden Fluid Acrylics Pyrrole Red oz Bottle Color Features acrylics ideal spraying brushing staining mixed products Blend airbrush medium spray application Excellent fabric Category Painting Age Group Adult Product Type Paint Country Manufacture United States Dimensions Overall Height Top Bottom Width Side Depth Front Back Weight lbs Ideal stainingExcellent applicationResult offers fine dispersion high tinting strength durability flexibilityBottle contains ounce acrylic paint', 'Buddy Products Task File Organizer Rack Pockets Steel Inches Platinum familyowned privatelyheld company located Chicago Illinois business years innovative manufacturer marketer office supplies furniture committed providing quality products competitive prices Keep desk files neat organized features four pockets radius cutouts easy access convenient rack hold file folders forms reports keep important information clear view top organizer divided sections essentials including stapler staple remover paper clips correction fluid Made USA using postconsumer recycled materials combines construction affordable pricing create everything professionals need maximize productivity organization workplace Save space desktop filing cabinetFour accessHold moreDivided essentialsKeep documents', 'Bank AmeriKid ATM Educational Insights interactive savings bank works like real Children learn save money grownups using multifunction electronic keypad personal card programmable secret password Kids love making deposits withdrawals building account reach goals young children grow mastering features security alarm locking cash drawer built calculator Features Teaches adding multiplying subtracting dividing Tracking Grades Pre Age years Dimensions Count moneysaving funInteractive ATMFeatures builtin calculatorTeaches tracking savingsKids', 'Panter Company MAGLHRD Magnetic Label Holders red Colored File Cabinets Bookcases vinyl clear label pocket back allows repositioning removalColored pocketMagnetic removalIncludes blank', 'Wrangler Mens Regular Fit Jeans Shop wide range Perfect everyday use could pair stylish tshirt shirt complete look DURABLE MATERIALS question classic withstand wear tear Made durable heavyweight cotton felled seams prevent chafing original fit jean made last matter task', 'Rio Grande Games Princes Florence Board gamesfamily gamesStrategy game', 'Wilton Rolling Pin WGuide Rings Roll fondant evenlyRoll perfect heightEasy handlePerfect use Fondant Multi Packs Cut Outs', 'Stanley National BOX RAIL HANGER HANGERUnit Sold PairPart Number Name NATIONAL MANUFACTURING SALES COUPC lb capacity per pair Steel steel bearings Zinc plated BoxedWeight lbs Length Width Height Lb Capacity Per PairFor Use Box RailPacked Connecting Bolt Nuts Without End Caps', 'Oster pc kit containing Osters stiff grooming brush soft finishing coarse curry comb mane tail hoof pick OsterR Equine Care Series Grooming Kit complete contains everything need fast easy ergonomic tools enable comfort convenient durable storage case keeps neat organized stores easily whether trailering tack trunk Blue Contents Stiff Pink Round fine round face Handy blue bag horse pickRubber controltouch handles added better grip hands sizesGreat horses whole bodiesKit includes', 'Kong Air Dog Squeakair Tennis Balls Toy Medium Yellow Pack Nonabrasive nontoxic felt coverHigh floatingErratic bounceHeavy duty', 'Sally Hansen Vitamin Nail Cuticle Oil Absorbs quickly nails cuticles deeply hydrateReduces brittleness breakageSalon tested Dermatologist Tested', 'Susan Howatch nan', 'Elizabeth Reynolds Hapgood nan', 'Bohumil Hrabal nan', 'White nan', 'Hyper Dog Launcher Replacement Pouch Ball PouchBand Best QualityHyper PetOriginal', 'Rosenthal Free Spirit White Porcelain Oval Side Plate wonderful dinnerware called produced using finest porcelain creating style best described modern design oriented side plate measures inch prominent color item white sold single piece one please change quantity accordingly adding cart Alternatively shopping page latercontinue collectionDishwasher safe decor colors melted glaze degrees softens sinks thus making luminosity indestructible scratch wearresistant However gold decors totally resistant virtue natural material properties tested Institute Material Technology IWT dishwasher safeMicrowave suitable safely used microwave oval glossy porcelainPlayful kidney shape offcenter serving areaOrganic versatile British designer Robin PlattAlso available glass clear redviolet rimDishwasher microwavesafe', 'Graphite OutdriveDrive Cup Set Pro nan', 'National Hardware Flag Pole Bracket Solid Brass FLAG BRKT SB Used Support Flat Poles DiameterMounts Vertical Horizontal SurfacesDecorative DesignClear lacquer protective coating', 'Iron Man Hawkeye Bow Arrow Arsenal Action Figure Marvel Figures', 'ACDelco Professional Inner Steering Tie Rod End Superb strength durabilityConsistent torque smooth operationFull ball studLowfriction double bearing high impact resistanceUndergo extreme wear fatigue testing ensure quality durability', 'Oster CryogenX Pet Clipper Blade inches Cuts mm blades made using step process ensures superior Cutting qualityThe size blade leaves coat Inch without need guide combPatented take degree extra hardnessHand lapped smooth cut finishHandcrafted USA', 'Cacharel Anais Perfumed Deodorant ml nan', 'LaBella Bajo Sexto Strings La Bella String Set Mexican bass guitar strings six sets two Stainless Steel', 'Fiskars Inch Steel Dhandle Digging Shovel Product Description steel digging shovel features durable design provides excellent grip garden welded construction far wood flex like fiberglass large offers twohanded control sharpened blade cuts dense soil easily extralarge foot platform helps maximize force break hardened clods Amazoncom allsteel heavyduty strength durability sports oversized step additional leverage comfort presharpened cut variety different soils materials teardropshaped shaft dhandle provide ergonomic use added directly onto entire powdercoated prevent rust Ideal tough soilLarge secure diggingWelded outlasts woodhandled tools fiberglassSharpened makes easy penetrate dirt clodsLifetime warranty', 'Belkin Flip KVM Switch Audio Support USB Connection Package Contents Remote base cables optional fastener strip user guide Plus offer great way work play laptop almost anywhere Som Single User', 'Body Solid Vertical Dumbbell Rack uniquely designed TwoTier holds pairs hex dumbbells level offset allowing unrestricted access Place wall center room Heavygauge steel construction offers maximum durability better performance less space lbs onlyPhysique Training Equipment offer installation item Assembly manual tools supplied along equipment used instal equipmentInstallation service available additional charge payable directly installer', 'Lego Make Create Boeing Dreamliner nan', 'StarMark Clicker Dog Training System Product Model Weight KgsProduct Brand Name', 'Familia Knusper Crunch Muesli Granola truly reigns supreme perfect breakfast cerealThe crunchiest muesli familia range packed full crunchy clusters juicy raisins freshly roasted nutsThese cereals popular ingredient recipes topping', 'Tolo Toys Musical Activity TVPast nan', 'Prismacolor Verithin Colored Pencils Highperformance acidfree colored pencils deliver artist quality results every level expertise Superior pigments provide full rich color saturation Hard thin lead core sharpens fine point improved precision accuracy Ideal drawing techniques including outlining detailing lettering softening edges Pencil Type Woodcase Lead Colors Indigo Blue Barrel Material Wood Points wont snap normal pressure moisture smear marksHighquality saturationIdeal cleaning edgesEach pencil without crumblingFeatures round barrel gilt top', 'Glacier Wooden Boomerang Kids Great Returning BoomerangsThe one popular starter boomerangs history real returning boomerang Colorado Boomerangs leading aerodynamic companies world Hand Crafted USA since include access videos Throw instructions Throwing skill teaches engineering scientific method thinking persons sport many ways similar Golf Small adjustments result large changes flight path Go bestColorado See full range searching BoomerangsNOTE RIGHT HANDED throwers kids crafted airplane grade Birch wood impoMade experienced craftsmen UIncludes exclusive', 'Shelby Cobra SC Blue Make History Exceptional Sports Car Swinging Sixties Convertible Scale Diecast Model Replica Comes Color Features Openable Doors Hood Trunk Detailed Engine Interior Chassis Chrome Accessories Pvc Tires Excellent Addition Collection Real Gem Devoted Connoisseurs Imported USA Collectible CarThis HOpenable', 'Progressive Suspension Adjustable Shock Spanner Wrench adjustable spring preload spanner fits adjusters found single shocks Easily adjusts shock rings Eliminates hammer punch method Vinyldipped handle sure grip ringsEliminates methodVinyldipped gripThis', 'Goosebumps Terror graveyard board game nan', 'American Plastic Toy Go Stroller nan', 'Titanium Series Star Wars Inch Snowspeeder', 'Smiffys Police Helmet Flashing Siren Light nan', 'Pelikan Giant Ink Cartridge Violet packet contains ink cartridgesBig Box cartridges erasableErasable eradicators', 'Scent Shield Mens Deodorant Pill Black Start fanatically Hunt obsessively Succeed incredibly impressive prey smarter sensitive quicker react get close scentreduced body gear attire critical part Blocker System external technologies intelligent effective simplest way neutralize odors generate collect throughout day fanatical obsessive hunting made little easier Effective aid controlling human scentReduces odor utilizing Chlorophyll Copper ComplexHigh potency Parsley Alfalfa powder concentrate helps control mouth odorReduces waste', 'Alumicolor Series Red Mini Aluminum Triangular Engineer Scale nan', 'Mitutoyo HDS Digimatic Height Gage Output range mm precise digital readout displays sharp figures inches metric viewing ease feed wheel measurement capacitance linear encoder helps ensure repeatable process control SPC output transmits results miniprocessor computer Range Response Speed Unlimted', 'Epoxy Clear durable waterproof Extra high strength bond Chemical resistant oz Size ozColor tubes per PSI bonding strengthpacked included', 'Barbie Fairytopia Magic Rainbow Mix Switch Fairy Dragonfly Fix doll sets include lots easysnap pieces girls create fairy magical world FairytopiaEach set includes multiple skirts tops wings wigs combinationsMagic Dolls', 'Corelle Coordinates Reston Lloyd Melamine Tidbit Serving Tray Country Morning Features Material MelamineDishwasher safe Dimensions Disclaimer Please NoteThis item cannot ship Alaska Hawaii Puerto Rico apologize inconvenience would like assistance finding please contact customer service team Product Type TraysDurable MelamineThis product imported USA genuine', 'Aurora Plush Ebon Black Panther Wonderful gift itemFine plush fabricRealistic stylingSoft cuddlyLeading manufacturer', 'Bazzill Cdstk Mono Powder Blue Card Stock BazzillMono Cardstock hundreds choices cardstock offers guaranteed find right one perfect finish scrapbook card making paper craft projects kinds package contains twentyfive inch sheets high quality canvas criss cross classic Available vast variety colors sold separately Made USA blue sheetsEach sheet acid', 'Safari Ltd Black Widow Spider astonishing spiders paralyze prey trapped webs powerful venom liquefy flesh digestive juices Although times poisonous painful bites usually deadly humans inject small amount cm products lead free thoroughly safety tested LARGE CREEPY CRAWLY Instead hanging wPART HIDDEN KINGDOM COLLECTION ExplorMADE INDUSTRYLEADING STANDARDS Like alREALISTIC APPEARANCE MULTIPLE USES SPECIFICATIONS Measures', 'OPI Nail Lacquer Bubble Bath Fun color toes fingersWont chip peelLots shine seal protect nails give fabulous colorThis Product Shipped USA within days reciept order', 'Florida Water Soap Murrayy Lanman Youthful Glow Oz Product Bar ozPack', 'Kenko Pro Slim Frame Camera Lens Filters PRO reduce amount light entering lens Wider apertures selected perfect portraiture depth fieldSubject appears crisp clear background becomes soft blurAlso Widely used photographs waterfalls nature scenes emphasize movement', 'Victorinox StraightEdge PointedTip Steak Knife Set Rosewood Handles RH Forschner knife choice professionals consistently receives high accolades product testing bestinclass commercial grade cutlery available home use knives feature carbon stainless steel blades hand finished Switzerland skilled craftsmen special tempering process used produce edge resharpened keep original sharpness throughout entire life blade handles ergonomically designed minimize wrist tension provide natural fit good heft comfortable positive grip indications wellmade suregrip handle finger guard valuable since inevitably gets greasy wet Although naturally sanitary materials construction details crevices would offer hospitality bacteria nan', 'Vans Unisex Half Cab Navy Leather Sneakers UKIndia EU Material Type LeatherClosure LaceUpWarranty ManufacturerProduct warranty manufacturing defects daysCare Instructions Clean shoes leather cleaner shampoo use good quality brush remove loose surface dirt wet cleaning let airdry proceed next step dry room temperature never expose sun heat cause shrink wrinkle harden crack', 'Eibach ProSpacer Wheel Spacer Kit EIBACH PRO SPACER WHEEL SOLD PAIR Bolt Pattern Center BoreHub Diameter Includes Bolts AircraftAluminum Alloy Precision Engineered HubCentric Perfect Fit Balance Reduced Weight Compared Steel Spacers StrengthTested Applications Extreme Corrosion Protection DIN Approved Coating Process TUV Quality ApprovedMaterial Aircraftaluminum AlloySeries Pro SpacerSize Borehub Widen stance better handlingMade highstrength aircraftaluminum alloyPrecisionengineered hubcentric spacers perfect fit wheel balanceReduced weight compared steel spacersStrengthtested applications', 'Fisher Space PenBullet Pen American Flag Emblem Matte Black Writes angle even Zero Gravity Simply versatile pen ever madeWrites extreme temperatures precision assembled hand tested carries unconditional lifetime guaranteeAll Brass steel construction', 'Mini Hose PinchOff Pliers OD nan', 'CandleLITE Company Tealights Pack FragranceFreeWhite color Tea lightTeaLights home nan', 'Pacific Play Tents Docking Port Tunnel WhiteMulti nan', 'Royal Canin Medium Adult Years Complete feed dogs mature medium breed kg years old Main benefits Vitality support Adapted content nutrients help maintain vitality facing first signs ageing Contains exclusive complex antioxidants neutralise free radicals Coat condition formula contains healthy skin coat Enriched EPADHA Digestive tolerance Helps promote optimal digestibility thanks including high quality proteins balanced supply dietary fibre Dental health reduce tartar formation chelation agents calcium dogsHelps formationsupport coathelp', 'AudioTechnica Cardioid Condensor Instrument Microphone One new stars Artist Series remake cardioid condenser offers innovative sideaddress stick design endless placement options minimal obstructions microphone equipped integral Hz hipass filter provides easy switching flat frequency response lowend rolloff also features switchable dB pad lowers microphones sensitivity providing higher SPL capability flexible use wide range performers system configurations extended makes ideal high SPLs well live amplified acoustic instruments Includes professional isolation clamp provide secure mounting versatile positioning effective dampening unwanted mechanical noise Unique maximizes obstructionsUncompromising sound quality overheads percussion guitar strings instrumentsIntegral HPF switch polar pattern reduces pickup sounds sides rear improving desired sourceIncludes shock protection positioningOver years Japanese Innovation Quality', 'Bosmere Seater Bench Cover Long Deep High Back Front nan', 'Perixx Wired Mouse Button Optical Resolution Illuminated Wheel Ft Cable Black provide basic optical tracking button design backlit wheel user enjoy classic mouse neutral shape fit right left hander Feet cable let use desktop notebook nan', 'RiteAV ULTRA Digital Optical Toslink Cable ft']\n"
          ],
          "name": "stdout"
        }
      ]
    },
    {
      "cell_type": "code",
      "metadata": {
        "id": "zhwZPQJX99y-"
      },
      "source": [
        "# Create a tokenizer to make embeddings\n",
        "\n",
        "tokenizer = Tokenizer()\n",
        "docs = sentences\n",
        "\n",
        "tokenizer.fit_on_texts(docs)\n",
        "\n",
        "X_train, X_val, Y_train, Y_val = train_test_split(df1[\"SENTENCES\"], df1[BROWSE_NODE_ID], test_size=0.33)\n",
        "\n",
        "X_train = tokenizer.texts_to_matrix(X_train, mode='freq')\n",
        "X_val = tokenizer.texts_to_matrix(X_val, mode='freq')\n"
      ],
      "execution_count": null,
      "outputs": []
    },
    {
      "cell_type": "code",
      "metadata": {
        "colab": {
          "base_uri": "https://localhost:8080/"
        },
        "id": "7rhMspHV_ZMo",
        "outputId": "ac537a96-0e58-4640-e677-6a8133370ac6"
      },
      "source": [
        "\"\"\"\n",
        "binary, count, freq, tfidf\n",
        "\"\"\"\n",
        "# X_train = tokenizer.texts_to_matrix(docs, mode='freq')\n",
        "# Y_train = df[BROWSE_NODE_ID].head(100)\n",
        "# print(Y_train)\n",
        "\n"
      ],
      "execution_count": null,
      "outputs": [
        {
          "output_type": "stream",
          "text": [
            "0      0\n",
            "1      1\n",
            "2      2\n",
            "3      3\n",
            "4      4\n",
            "      ..\n",
            "95    95\n",
            "96    96\n",
            "97    97\n",
            "98    98\n",
            "99    99\n",
            "Name: BROWSE_NODE_ID, Length: 100, dtype: int64\n"
          ],
          "name": "stdout"
        }
      ]
    },
    {
      "cell_type": "code",
      "metadata": {
        "id": "7OWt4GT1B8xe"
      },
      "source": [
        ""
      ],
      "execution_count": null,
      "outputs": []
    }
  ]
}